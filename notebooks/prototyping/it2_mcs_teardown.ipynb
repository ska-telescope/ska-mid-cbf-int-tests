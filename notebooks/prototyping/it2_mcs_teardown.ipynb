{
 "cells": [
  {
   "cell_type": "markdown",
   "metadata": {},
   "source": [
    "## IT-2 MCS Teardown\n",
    "\n",
    "Teardown instantiation from IT-0 MCS Setup"
   ]
  },
  {
   "cell_type": "code",
   "execution_count": null,
   "metadata": {},
   "outputs": [],
   "source": [
    "from lib.common_setup import common_notebook_setup\n",
    "\n",
    "from ska_mid_cbf_int_tests.cbf_command import ControllerClient\n",
    "from ska_mid_cbf_int_tests.cbf_constants.tango_constants import CONTROLLER_FQDN\n",
    "\n",
    "notebook_pkg = common_notebook_setup()"
   ]
  },
  {
   "cell_type": "code",
   "execution_count": null,
   "metadata": {},
   "outputs": [],
   "source": [
    "controller_client = ControllerClient(CONTROLLER_FQDN, notebook_pkg.alobserver)"
   ]
  },
  {
   "cell_type": "markdown",
   "metadata": {},
   "source": [
    "### Teardown Controller"
   ]
  },
  {
   "cell_type": "code",
   "execution_count": null,
   "metadata": {},
   "outputs": [],
   "source": [
    "controller_client.admin_mode_offline()"
   ]
  },
  {
   "cell_type": "markdown",
   "metadata": {},
   "source": [
    "##### Reminder: When finished with namespace delete it with \"kubectl delete namespace \\<namespace-name\\>\""
   ]
  }
 ],
 "metadata": {
  "language_info": {
   "name": "python"
  }
 },
 "nbformat": 4,
 "nbformat_minor": 4
}
