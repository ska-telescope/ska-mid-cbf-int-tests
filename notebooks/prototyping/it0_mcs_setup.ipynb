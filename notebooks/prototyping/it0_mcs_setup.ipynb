{
 "cells": [
  {
   "cell_type": "markdown",
   "metadata": {},
   "source": [
    "## IT-0 MCS Setup\n",
    "\n",
    "Sets up MCS for subsequent notebooks"
   ]
  },
  {
   "cell_type": "code",
   "execution_count": null,
   "metadata": {},
   "outputs": [],
   "source": [
    "from helper.common import it_notebook_common_setup\n",
    "\n",
    "from ska_mid_cbf_int_tests.cbf_command import ControllerClient, DeployerClient\n",
    "from ska_mid_cbf_int_tests.constants.tango_constants import (\n",
    "    CONTROLLER_FQDN,\n",
    "    DEPLOYER_FQDN,\n",
    ")\n",
    "\n",
    "alobserver = it_notebook_common_setup()"
   ]
  },
  {
   "cell_type": "markdown",
   "metadata": {
    "vscode": {
     "languageId": "plaintext"
    }
   },
   "source": [
    "### Setup Deployer\n",
    "\n",
    "Note: Likely will be removed for AA2+"
   ]
  },
  {
   "cell_type": "code",
   "execution_count": null,
   "metadata": {},
   "outputs": [],
   "source": [
    "deployer_client = DeployerClient(DEPLOYER_FQDN)\n",
    "\n",
    "deployer_client.wr_target_talons([1, 2, 3, 4])\n",
    "deployer_client.generate_config_jsons()"
   ]
  },
  {
   "cell_type": "markdown",
   "metadata": {},
   "source": [
    "### Setup Controller"
   ]
  },
  {
   "cell_type": "code",
   "execution_count": null,
   "metadata": {},
   "outputs": [],
   "source": [
    "controller_client = ControllerClient(CONTROLLER_FQDN, alobserver)\n",
    "\n",
    "controller_client.simulation_mode_on()\n",
    "controller_client.admin_mode_online()"
   ]
  }
 ],
 "metadata": {
  "language_info": {
   "name": "python"
  }
 },
 "nbformat": 4,
 "nbformat_minor": 2
}
