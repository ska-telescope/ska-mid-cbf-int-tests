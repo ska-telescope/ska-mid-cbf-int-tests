{
 "cells": [
  {
   "cell_type": "markdown",
   "metadata": {},
   "source": [
    "## IT-0 MCS Setup\n",
    "\n",
    "Sets up MCS for subsequent notebooks"
   ]
  },
  {
   "cell_type": "code",
   "execution_count": null,
   "metadata": {},
   "outputs": [],
   "source": [
    "from lib.common_setup import common_notebook_setup\n",
    "\n",
    "from ska_mid_cbf_int_tests.cbf_command import ControllerClient, DeployerClient\n",
    "from ska_mid_cbf_int_tests.constants.tango_constants import (\n",
    "    CONTROLLER_FQDN,\n",
    "    DEPLOYER_FQDN,\n",
    ")\n",
    "\n",
    "notebook_pkg = common_notebook_setup()"
   ]
  },
  {
   "cell_type": "markdown",
   "metadata": {
    "vscode": {
     "languageId": "plaintext"
    }
   },
   "source": [
    "### Setup Deployer\n",
    "\n",
    "Note: Likely will be removed for AA2+"
   ]
  },
  {
   "cell_type": "code",
   "execution_count": null,
   "metadata": {},
   "outputs": [],
   "source": [
    "deployer_client = DeployerClient(DEPLOYER_FQDN)\n",
    "\n",
    "deployer_client.wr_target_talons(notebook_pkg.deployer_talons)\n",
    "deployer_client.generate_config_jsons()"
   ]
  },
  {
   "cell_type": "markdown",
   "metadata": {},
   "source": [
    "### Setup Controller"
   ]
  },
  {
   "cell_type": "code",
   "execution_count": null,
   "metadata": {},
   "outputs": [],
   "source": [
    "controller_client = ControllerClient(CONTROLLER_FQDN, notebook_pkg.alobserver)\n",
    "\n",
    "controller_client.simulation_mode_on()\n",
    "controller_client.admin_mode_online()"
   ]
  }
 ],
 "metadata": {
  "language_info": {
   "name": "python"
  }
 },
 "nbformat": 4,
 "nbformat_minor": 2
}
