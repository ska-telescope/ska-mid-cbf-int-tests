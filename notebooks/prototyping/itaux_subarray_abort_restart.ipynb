{
 "cells": [
  {
   "cell_type": "markdown",
   "metadata": {},
   "source": [
    "## IT-AUX Subarray Abort-Restart\n",
    "\n",
    "Run abort and restart sequence as defined in model: https://developer.skao.int/projects/ska-control-model/en/latest/obs_state.html"
   ]
  },
  {
   "cell_type": "code",
   "execution_count": null,
   "metadata": {},
   "outputs": [],
   "source": [
    "from lib.common_setup import common_notebook_setup\n",
    "\n",
    "from ska_mid_cbf_int_tests.cbf_command import SubarrayClient\n",
    "from ska_mid_cbf_int_tests.cbf_constants.tango_constants import (\n",
    "    gen_subarray_fqdn,\n",
    ")\n",
    "\n",
    "notebook_pkg = common_notebook_setup()"
   ]
  },
  {
   "cell_type": "code",
   "execution_count": null,
   "metadata": {},
   "outputs": [],
   "source": [
    "subarray_client = SubarrayClient(\n",
    "    gen_subarray_fqdn(notebook_pkg.subarray_no), notebook_pkg.alobserver\n",
    ")"
   ]
  },
  {
   "cell_type": "markdown",
   "metadata": {},
   "source": [
    "### Run Abort"
   ]
  },
  {
   "cell_type": "code",
   "execution_count": null,
   "metadata": {},
   "outputs": [],
   "source": [
    "subarray_client.abort()"
   ]
  },
  {
   "cell_type": "code",
   "execution_count": null,
   "metadata": {},
   "outputs": [],
   "source": [
    "subarray_client.restart()"
   ]
  }
 ],
 "metadata": {
  "language_info": {
   "name": "python"
  }
 },
 "nbformat": 4,
 "nbformat_minor": 2
}
