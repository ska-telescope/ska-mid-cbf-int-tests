{
 "cells": [
  {
   "cell_type": "markdown",
   "metadata": {},
   "source": [
    "## IT-1 Scan\n",
    "\n",
    "Run Nominal Scan Sequence"
   ]
  },
  {
   "cell_type": "code",
   "execution_count": null,
   "metadata": {},
   "outputs": [],
   "source": [
    "from lib.common_setup import common_notebook_setup\n",
    "\n",
    "from ska_mid_cbf_int_tests.cbf_command import SubarrayClient\n",
    "from ska_mid_cbf_int_tests.constants.tango_constants import gen_subarray_fqdn\n",
    "\n",
    "notebook_pkg = common_notebook_setup()"
   ]
  },
  {
   "cell_type": "code",
   "execution_count": null,
   "metadata": {},
   "outputs": [],
   "source": [
    "subarray_client = SubarrayClient(\n",
    "    gen_subarray_fqdn(notebook_pkg.subarray_no), notebook_pkg.alobserver\n",
    ")"
   ]
  },
  {
   "cell_type": "markdown",
   "metadata": {},
   "source": [
    "### Setup Scan"
   ]
  },
  {
   "cell_type": "code",
   "execution_count": null,
   "metadata": {},
   "outputs": [],
   "source": [
    "subarray_client.add_receptors(notebook_pkg.receptors)\n",
    "subarray_client.configure_scan(notebook_pkg.scan_config)"
   ]
  },
  {
   "cell_type": "markdown",
   "metadata": {},
   "source": [
    "### Execute Scan"
   ]
  },
  {
   "cell_type": "code",
   "execution_count": null,
   "metadata": {},
   "outputs": [],
   "source": [
    "subarray_client.scan(notebook_pkg.scan)"
   ]
  },
  {
   "cell_type": "markdown",
   "metadata": {},
   "source": [
    "### Teardown Scan"
   ]
  },
  {
   "cell_type": "code",
   "execution_count": null,
   "metadata": {},
   "outputs": [],
   "source": [
    "subarray_client.remove_all_receptors()"
   ]
  }
 ],
 "metadata": {
  "language_info": {
   "name": "python"
  }
 },
 "nbformat": 4,
 "nbformat_minor": 2
}
